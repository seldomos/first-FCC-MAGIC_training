{
  "nbformat": 4,
  "nbformat_minor": 0,
  "metadata": {
    "colab": {
      "provenance": []
    },
    "kernelspec": {
      "name": "python3",
      "display_name": "Python 3"
    },
    "language_info": {
      "name": "python"
    }
  },
  "cells": [
    {
      "cell_type": "code",
      "source": [
        "!wget https://archive.ics.uci.edu/ml/machine-learning-databases/magic/magic04.data"
      ],
      "metadata": {
        "id": "qmaum_ul93nP",
        "colab": {
          "base_uri": "https://localhost:8080/"
        },
        "outputId": "d9badf33-da2b-49e7-e8fa-e62e46a8b803"
      },
      "execution_count": 1,
      "outputs": [
        {
          "output_type": "stream",
          "name": "stdout",
          "text": [
            "--2023-06-03 21:29:55--  https://archive.ics.uci.edu/ml/machine-learning-databases/magic/magic04.data\n",
            "Resolving archive.ics.uci.edu (archive.ics.uci.edu)... 128.195.10.252\n",
            "Connecting to archive.ics.uci.edu (archive.ics.uci.edu)|128.195.10.252|:443... connected.\n",
            "HTTP request sent, awaiting response... 200 OK\n",
            "Length: 1477391 (1.4M) [application/x-httpd-php]\n",
            "Saving to: ‘magic04.data’\n",
            "\n",
            "magic04.data        100%[===================>]   1.41M  3.56MB/s    in 0.4s    \n",
            "\n",
            "2023-06-03 21:29:56 (3.56 MB/s) - ‘magic04.data’ saved [1477391/1477391]\n",
            "\n"
          ]
        }
      ]
    },
    {
      "cell_type": "code",
      "execution_count": 2,
      "metadata": {
        "id": "m_5Y8StXRzzb"
      },
      "outputs": [],
      "source": [
        "%matplotlib inline\n",
        "import numpy as np\n",
        "import pandas as pd\n",
        "import matplotlib.pyplot as plt\n",
        "from sklearn.preprocessing import StandardScaler\n",
        "from imblearn.over_sampling import RandomOverSampler"
      ]
    },
    {
      "cell_type": "code",
      "source": [
        "cols = [\"fLength\", \"fWidth\", \"fSize\", \"fConc\", \"fConc1\", \"fAsym\", \"fM3Long\", \n",
        "        \"fM3Trans\", \"fAlpha\", \"fDist\", \"class\"]\n",
        "df = pd.read_csv(\"magic04.data\", names=cols)\n",
        "df.head()"
      ],
      "metadata": {
        "colab": {
          "base_uri": "https://localhost:8080/",
          "height": 206
        },
        "id": "sMN6zMLIPxcy",
        "outputId": "3ca469bd-ece5-42e4-b2c4-06dad7f4c295"
      },
      "execution_count": 3,
      "outputs": [
        {
          "output_type": "execute_result",
          "data": {
            "text/plain": [
              "    fLength    fWidth   fSize   fConc  fConc1     fAsym  fM3Long  fM3Trans  \\\n",
              "0   28.7967   16.0021  2.6449  0.3918  0.1982   27.7004  22.0110   -8.2027   \n",
              "1   31.6036   11.7235  2.5185  0.5303  0.3773   26.2722  23.8238   -9.9574   \n",
              "2  162.0520  136.0310  4.0612  0.0374  0.0187  116.7410 -64.8580  -45.2160   \n",
              "3   23.8172    9.5728  2.3385  0.6147  0.3922   27.2107  -6.4633   -7.1513   \n",
              "4   75.1362   30.9205  3.1611  0.3168  0.1832   -5.5277  28.5525   21.8393   \n",
              "\n",
              "    fAlpha     fDist class  \n",
              "0  40.0920   81.8828     g  \n",
              "1   6.3609  205.2610     g  \n",
              "2  76.9600  256.7880     g  \n",
              "3  10.4490  116.7370     g  \n",
              "4   4.6480  356.4620     g  "
            ],
            "text/html": [
              "\n",
              "  <div id=\"df-7b4d5a35-7312-4770-8ac1-cecf55e335ef\">\n",
              "    <div class=\"colab-df-container\">\n",
              "      <div>\n",
              "<style scoped>\n",
              "    .dataframe tbody tr th:only-of-type {\n",
              "        vertical-align: middle;\n",
              "    }\n",
              "\n",
              "    .dataframe tbody tr th {\n",
              "        vertical-align: top;\n",
              "    }\n",
              "\n",
              "    .dataframe thead th {\n",
              "        text-align: right;\n",
              "    }\n",
              "</style>\n",
              "<table border=\"1\" class=\"dataframe\">\n",
              "  <thead>\n",
              "    <tr style=\"text-align: right;\">\n",
              "      <th></th>\n",
              "      <th>fLength</th>\n",
              "      <th>fWidth</th>\n",
              "      <th>fSize</th>\n",
              "      <th>fConc</th>\n",
              "      <th>fConc1</th>\n",
              "      <th>fAsym</th>\n",
              "      <th>fM3Long</th>\n",
              "      <th>fM3Trans</th>\n",
              "      <th>fAlpha</th>\n",
              "      <th>fDist</th>\n",
              "      <th>class</th>\n",
              "    </tr>\n",
              "  </thead>\n",
              "  <tbody>\n",
              "    <tr>\n",
              "      <th>0</th>\n",
              "      <td>28.7967</td>\n",
              "      <td>16.0021</td>\n",
              "      <td>2.6449</td>\n",
              "      <td>0.3918</td>\n",
              "      <td>0.1982</td>\n",
              "      <td>27.7004</td>\n",
              "      <td>22.0110</td>\n",
              "      <td>-8.2027</td>\n",
              "      <td>40.0920</td>\n",
              "      <td>81.8828</td>\n",
              "      <td>g</td>\n",
              "    </tr>\n",
              "    <tr>\n",
              "      <th>1</th>\n",
              "      <td>31.6036</td>\n",
              "      <td>11.7235</td>\n",
              "      <td>2.5185</td>\n",
              "      <td>0.5303</td>\n",
              "      <td>0.3773</td>\n",
              "      <td>26.2722</td>\n",
              "      <td>23.8238</td>\n",
              "      <td>-9.9574</td>\n",
              "      <td>6.3609</td>\n",
              "      <td>205.2610</td>\n",
              "      <td>g</td>\n",
              "    </tr>\n",
              "    <tr>\n",
              "      <th>2</th>\n",
              "      <td>162.0520</td>\n",
              "      <td>136.0310</td>\n",
              "      <td>4.0612</td>\n",
              "      <td>0.0374</td>\n",
              "      <td>0.0187</td>\n",
              "      <td>116.7410</td>\n",
              "      <td>-64.8580</td>\n",
              "      <td>-45.2160</td>\n",
              "      <td>76.9600</td>\n",
              "      <td>256.7880</td>\n",
              "      <td>g</td>\n",
              "    </tr>\n",
              "    <tr>\n",
              "      <th>3</th>\n",
              "      <td>23.8172</td>\n",
              "      <td>9.5728</td>\n",
              "      <td>2.3385</td>\n",
              "      <td>0.6147</td>\n",
              "      <td>0.3922</td>\n",
              "      <td>27.2107</td>\n",
              "      <td>-6.4633</td>\n",
              "      <td>-7.1513</td>\n",
              "      <td>10.4490</td>\n",
              "      <td>116.7370</td>\n",
              "      <td>g</td>\n",
              "    </tr>\n",
              "    <tr>\n",
              "      <th>4</th>\n",
              "      <td>75.1362</td>\n",
              "      <td>30.9205</td>\n",
              "      <td>3.1611</td>\n",
              "      <td>0.3168</td>\n",
              "      <td>0.1832</td>\n",
              "      <td>-5.5277</td>\n",
              "      <td>28.5525</td>\n",
              "      <td>21.8393</td>\n",
              "      <td>4.6480</td>\n",
              "      <td>356.4620</td>\n",
              "      <td>g</td>\n",
              "    </tr>\n",
              "  </tbody>\n",
              "</table>\n",
              "</div>\n",
              "      <button class=\"colab-df-convert\" onclick=\"convertToInteractive('df-7b4d5a35-7312-4770-8ac1-cecf55e335ef')\"\n",
              "              title=\"Convert this dataframe to an interactive table.\"\n",
              "              style=\"display:none;\">\n",
              "        \n",
              "  <svg xmlns=\"http://www.w3.org/2000/svg\" height=\"24px\"viewBox=\"0 0 24 24\"\n",
              "       width=\"24px\">\n",
              "    <path d=\"M0 0h24v24H0V0z\" fill=\"none\"/>\n",
              "    <path d=\"M18.56 5.44l.94 2.06.94-2.06 2.06-.94-2.06-.94-.94-2.06-.94 2.06-2.06.94zm-11 1L8.5 8.5l.94-2.06 2.06-.94-2.06-.94L8.5 2.5l-.94 2.06-2.06.94zm10 10l.94 2.06.94-2.06 2.06-.94-2.06-.94-.94-2.06-.94 2.06-2.06.94z\"/><path d=\"M17.41 7.96l-1.37-1.37c-.4-.4-.92-.59-1.43-.59-.52 0-1.04.2-1.43.59L10.3 9.45l-7.72 7.72c-.78.78-.78 2.05 0 2.83L4 21.41c.39.39.9.59 1.41.59.51 0 1.02-.2 1.41-.59l7.78-7.78 2.81-2.81c.8-.78.8-2.07 0-2.86zM5.41 20L4 18.59l7.72-7.72 1.47 1.35L5.41 20z\"/>\n",
              "  </svg>\n",
              "      </button>\n",
              "      \n",
              "  <style>\n",
              "    .colab-df-container {\n",
              "      display:flex;\n",
              "      flex-wrap:wrap;\n",
              "      gap: 12px;\n",
              "    }\n",
              "\n",
              "    .colab-df-convert {\n",
              "      background-color: #E8F0FE;\n",
              "      border: none;\n",
              "      border-radius: 50%;\n",
              "      cursor: pointer;\n",
              "      display: none;\n",
              "      fill: #1967D2;\n",
              "      height: 32px;\n",
              "      padding: 0 0 0 0;\n",
              "      width: 32px;\n",
              "    }\n",
              "\n",
              "    .colab-df-convert:hover {\n",
              "      background-color: #E2EBFA;\n",
              "      box-shadow: 0px 1px 2px rgba(60, 64, 67, 0.3), 0px 1px 3px 1px rgba(60, 64, 67, 0.15);\n",
              "      fill: #174EA6;\n",
              "    }\n",
              "\n",
              "    [theme=dark] .colab-df-convert {\n",
              "      background-color: #3B4455;\n",
              "      fill: #D2E3FC;\n",
              "    }\n",
              "\n",
              "    [theme=dark] .colab-df-convert:hover {\n",
              "      background-color: #434B5C;\n",
              "      box-shadow: 0px 1px 3px 1px rgba(0, 0, 0, 0.15);\n",
              "      filter: drop-shadow(0px 1px 2px rgba(0, 0, 0, 0.3));\n",
              "      fill: #FFFFFF;\n",
              "    }\n",
              "  </style>\n",
              "\n",
              "      <script>\n",
              "        const buttonEl =\n",
              "          document.querySelector('#df-7b4d5a35-7312-4770-8ac1-cecf55e335ef button.colab-df-convert');\n",
              "        buttonEl.style.display =\n",
              "          google.colab.kernel.accessAllowed ? 'block' : 'none';\n",
              "\n",
              "        async function convertToInteractive(key) {\n",
              "          const element = document.querySelector('#df-7b4d5a35-7312-4770-8ac1-cecf55e335ef');\n",
              "          const dataTable =\n",
              "            await google.colab.kernel.invokeFunction('convertToInteractive',\n",
              "                                                     [key], {});\n",
              "          if (!dataTable) return;\n",
              "\n",
              "          const docLinkHtml = 'Like what you see? Visit the ' +\n",
              "            '<a target=\"_blank\" href=https://colab.research.google.com/notebooks/data_table.ipynb>data table notebook</a>'\n",
              "            + ' to learn more about interactive tables.';\n",
              "          element.innerHTML = '';\n",
              "          dataTable['output_type'] = 'display_data';\n",
              "          await google.colab.output.renderOutput(dataTable, element);\n",
              "          const docLink = document.createElement('div');\n",
              "          docLink.innerHTML = docLinkHtml;\n",
              "          element.appendChild(docLink);\n",
              "        }\n",
              "      </script>\n",
              "    </div>\n",
              "  </div>\n",
              "  "
            ]
          },
          "metadata": {},
          "execution_count": 3
        }
      ]
    },
    {
      "cell_type": "code",
      "source": [
        "### ПРЕОБРАЗОВАНИЕ данных в столбце \"class\" (g, h) в двоичный вид 0, 1\n",
        "df['class'] = (df[\"class\"] == \"g\").astype(int)"
      ],
      "metadata": {
        "id": "famTN2e7QYXj"
      },
      "execution_count": 4,
      "outputs": []
    },
    {
      "cell_type": "code",
      "source": [
        "df"
      ],
      "metadata": {
        "colab": {
          "base_uri": "https://localhost:8080/",
          "height": 424
        },
        "id": "CV7kv4C2TBda",
        "outputId": "9306f9a7-dbc6-47d3-8d67-bb7cfe790f70"
      },
      "execution_count": 5,
      "outputs": [
        {
          "output_type": "execute_result",
          "data": {
            "text/plain": [
              "        fLength    fWidth   fSize   fConc  fConc1     fAsym   fM3Long  \\\n",
              "0       28.7967   16.0021  2.6449  0.3918  0.1982   27.7004   22.0110   \n",
              "1       31.6036   11.7235  2.5185  0.5303  0.3773   26.2722   23.8238   \n",
              "2      162.0520  136.0310  4.0612  0.0374  0.0187  116.7410  -64.8580   \n",
              "3       23.8172    9.5728  2.3385  0.6147  0.3922   27.2107   -6.4633   \n",
              "4       75.1362   30.9205  3.1611  0.3168  0.1832   -5.5277   28.5525   \n",
              "...         ...       ...     ...     ...     ...       ...       ...   \n",
              "19015   21.3846   10.9170  2.6161  0.5857  0.3934   15.2618   11.5245   \n",
              "19016   28.9452    6.7020  2.2672  0.5351  0.2784   37.0816   13.1853   \n",
              "19017   75.4455   47.5305  3.4483  0.1417  0.0549   -9.3561   41.0562   \n",
              "19018  120.5135   76.9018  3.9939  0.0944  0.0683    5.8043  -93.5224   \n",
              "19019  187.1814   53.0014  3.2093  0.2876  0.1539 -167.3125 -168.4558   \n",
              "\n",
              "       fM3Trans   fAlpha     fDist  class  \n",
              "0       -8.2027  40.0920   81.8828      1  \n",
              "1       -9.9574   6.3609  205.2610      1  \n",
              "2      -45.2160  76.9600  256.7880      1  \n",
              "3       -7.1513  10.4490  116.7370      1  \n",
              "4       21.8393   4.6480  356.4620      1  \n",
              "...         ...      ...       ...    ...  \n",
              "19015    2.8766   2.4229  106.8258      0  \n",
              "19016   -2.9632  86.7975  247.4560      0  \n",
              "19017   -9.4662  30.2987  256.5166      0  \n",
              "19018  -63.8389  84.6874  408.3166      0  \n",
              "19019   31.4755  52.7310  272.3174      0  \n",
              "\n",
              "[19020 rows x 11 columns]"
            ],
            "text/html": [
              "\n",
              "  <div id=\"df-a1e85b37-6cbb-4e88-b65d-bda0e0482f4f\">\n",
              "    <div class=\"colab-df-container\">\n",
              "      <div>\n",
              "<style scoped>\n",
              "    .dataframe tbody tr th:only-of-type {\n",
              "        vertical-align: middle;\n",
              "    }\n",
              "\n",
              "    .dataframe tbody tr th {\n",
              "        vertical-align: top;\n",
              "    }\n",
              "\n",
              "    .dataframe thead th {\n",
              "        text-align: right;\n",
              "    }\n",
              "</style>\n",
              "<table border=\"1\" class=\"dataframe\">\n",
              "  <thead>\n",
              "    <tr style=\"text-align: right;\">\n",
              "      <th></th>\n",
              "      <th>fLength</th>\n",
              "      <th>fWidth</th>\n",
              "      <th>fSize</th>\n",
              "      <th>fConc</th>\n",
              "      <th>fConc1</th>\n",
              "      <th>fAsym</th>\n",
              "      <th>fM3Long</th>\n",
              "      <th>fM3Trans</th>\n",
              "      <th>fAlpha</th>\n",
              "      <th>fDist</th>\n",
              "      <th>class</th>\n",
              "    </tr>\n",
              "  </thead>\n",
              "  <tbody>\n",
              "    <tr>\n",
              "      <th>0</th>\n",
              "      <td>28.7967</td>\n",
              "      <td>16.0021</td>\n",
              "      <td>2.6449</td>\n",
              "      <td>0.3918</td>\n",
              "      <td>0.1982</td>\n",
              "      <td>27.7004</td>\n",
              "      <td>22.0110</td>\n",
              "      <td>-8.2027</td>\n",
              "      <td>40.0920</td>\n",
              "      <td>81.8828</td>\n",
              "      <td>1</td>\n",
              "    </tr>\n",
              "    <tr>\n",
              "      <th>1</th>\n",
              "      <td>31.6036</td>\n",
              "      <td>11.7235</td>\n",
              "      <td>2.5185</td>\n",
              "      <td>0.5303</td>\n",
              "      <td>0.3773</td>\n",
              "      <td>26.2722</td>\n",
              "      <td>23.8238</td>\n",
              "      <td>-9.9574</td>\n",
              "      <td>6.3609</td>\n",
              "      <td>205.2610</td>\n",
              "      <td>1</td>\n",
              "    </tr>\n",
              "    <tr>\n",
              "      <th>2</th>\n",
              "      <td>162.0520</td>\n",
              "      <td>136.0310</td>\n",
              "      <td>4.0612</td>\n",
              "      <td>0.0374</td>\n",
              "      <td>0.0187</td>\n",
              "      <td>116.7410</td>\n",
              "      <td>-64.8580</td>\n",
              "      <td>-45.2160</td>\n",
              "      <td>76.9600</td>\n",
              "      <td>256.7880</td>\n",
              "      <td>1</td>\n",
              "    </tr>\n",
              "    <tr>\n",
              "      <th>3</th>\n",
              "      <td>23.8172</td>\n",
              "      <td>9.5728</td>\n",
              "      <td>2.3385</td>\n",
              "      <td>0.6147</td>\n",
              "      <td>0.3922</td>\n",
              "      <td>27.2107</td>\n",
              "      <td>-6.4633</td>\n",
              "      <td>-7.1513</td>\n",
              "      <td>10.4490</td>\n",
              "      <td>116.7370</td>\n",
              "      <td>1</td>\n",
              "    </tr>\n",
              "    <tr>\n",
              "      <th>4</th>\n",
              "      <td>75.1362</td>\n",
              "      <td>30.9205</td>\n",
              "      <td>3.1611</td>\n",
              "      <td>0.3168</td>\n",
              "      <td>0.1832</td>\n",
              "      <td>-5.5277</td>\n",
              "      <td>28.5525</td>\n",
              "      <td>21.8393</td>\n",
              "      <td>4.6480</td>\n",
              "      <td>356.4620</td>\n",
              "      <td>1</td>\n",
              "    </tr>\n",
              "    <tr>\n",
              "      <th>...</th>\n",
              "      <td>...</td>\n",
              "      <td>...</td>\n",
              "      <td>...</td>\n",
              "      <td>...</td>\n",
              "      <td>...</td>\n",
              "      <td>...</td>\n",
              "      <td>...</td>\n",
              "      <td>...</td>\n",
              "      <td>...</td>\n",
              "      <td>...</td>\n",
              "      <td>...</td>\n",
              "    </tr>\n",
              "    <tr>\n",
              "      <th>19015</th>\n",
              "      <td>21.3846</td>\n",
              "      <td>10.9170</td>\n",
              "      <td>2.6161</td>\n",
              "      <td>0.5857</td>\n",
              "      <td>0.3934</td>\n",
              "      <td>15.2618</td>\n",
              "      <td>11.5245</td>\n",
              "      <td>2.8766</td>\n",
              "      <td>2.4229</td>\n",
              "      <td>106.8258</td>\n",
              "      <td>0</td>\n",
              "    </tr>\n",
              "    <tr>\n",
              "      <th>19016</th>\n",
              "      <td>28.9452</td>\n",
              "      <td>6.7020</td>\n",
              "      <td>2.2672</td>\n",
              "      <td>0.5351</td>\n",
              "      <td>0.2784</td>\n",
              "      <td>37.0816</td>\n",
              "      <td>13.1853</td>\n",
              "      <td>-2.9632</td>\n",
              "      <td>86.7975</td>\n",
              "      <td>247.4560</td>\n",
              "      <td>0</td>\n",
              "    </tr>\n",
              "    <tr>\n",
              "      <th>19017</th>\n",
              "      <td>75.4455</td>\n",
              "      <td>47.5305</td>\n",
              "      <td>3.4483</td>\n",
              "      <td>0.1417</td>\n",
              "      <td>0.0549</td>\n",
              "      <td>-9.3561</td>\n",
              "      <td>41.0562</td>\n",
              "      <td>-9.4662</td>\n",
              "      <td>30.2987</td>\n",
              "      <td>256.5166</td>\n",
              "      <td>0</td>\n",
              "    </tr>\n",
              "    <tr>\n",
              "      <th>19018</th>\n",
              "      <td>120.5135</td>\n",
              "      <td>76.9018</td>\n",
              "      <td>3.9939</td>\n",
              "      <td>0.0944</td>\n",
              "      <td>0.0683</td>\n",
              "      <td>5.8043</td>\n",
              "      <td>-93.5224</td>\n",
              "      <td>-63.8389</td>\n",
              "      <td>84.6874</td>\n",
              "      <td>408.3166</td>\n",
              "      <td>0</td>\n",
              "    </tr>\n",
              "    <tr>\n",
              "      <th>19019</th>\n",
              "      <td>187.1814</td>\n",
              "      <td>53.0014</td>\n",
              "      <td>3.2093</td>\n",
              "      <td>0.2876</td>\n",
              "      <td>0.1539</td>\n",
              "      <td>-167.3125</td>\n",
              "      <td>-168.4558</td>\n",
              "      <td>31.4755</td>\n",
              "      <td>52.7310</td>\n",
              "      <td>272.3174</td>\n",
              "      <td>0</td>\n",
              "    </tr>\n",
              "  </tbody>\n",
              "</table>\n",
              "<p>19020 rows × 11 columns</p>\n",
              "</div>\n",
              "      <button class=\"colab-df-convert\" onclick=\"convertToInteractive('df-a1e85b37-6cbb-4e88-b65d-bda0e0482f4f')\"\n",
              "              title=\"Convert this dataframe to an interactive table.\"\n",
              "              style=\"display:none;\">\n",
              "        \n",
              "  <svg xmlns=\"http://www.w3.org/2000/svg\" height=\"24px\"viewBox=\"0 0 24 24\"\n",
              "       width=\"24px\">\n",
              "    <path d=\"M0 0h24v24H0V0z\" fill=\"none\"/>\n",
              "    <path d=\"M18.56 5.44l.94 2.06.94-2.06 2.06-.94-2.06-.94-.94-2.06-.94 2.06-2.06.94zm-11 1L8.5 8.5l.94-2.06 2.06-.94-2.06-.94L8.5 2.5l-.94 2.06-2.06.94zm10 10l.94 2.06.94-2.06 2.06-.94-2.06-.94-.94-2.06-.94 2.06-2.06.94z\"/><path d=\"M17.41 7.96l-1.37-1.37c-.4-.4-.92-.59-1.43-.59-.52 0-1.04.2-1.43.59L10.3 9.45l-7.72 7.72c-.78.78-.78 2.05 0 2.83L4 21.41c.39.39.9.59 1.41.59.51 0 1.02-.2 1.41-.59l7.78-7.78 2.81-2.81c.8-.78.8-2.07 0-2.86zM5.41 20L4 18.59l7.72-7.72 1.47 1.35L5.41 20z\"/>\n",
              "  </svg>\n",
              "      </button>\n",
              "      \n",
              "  <style>\n",
              "    .colab-df-container {\n",
              "      display:flex;\n",
              "      flex-wrap:wrap;\n",
              "      gap: 12px;\n",
              "    }\n",
              "\n",
              "    .colab-df-convert {\n",
              "      background-color: #E8F0FE;\n",
              "      border: none;\n",
              "      border-radius: 50%;\n",
              "      cursor: pointer;\n",
              "      display: none;\n",
              "      fill: #1967D2;\n",
              "      height: 32px;\n",
              "      padding: 0 0 0 0;\n",
              "      width: 32px;\n",
              "    }\n",
              "\n",
              "    .colab-df-convert:hover {\n",
              "      background-color: #E2EBFA;\n",
              "      box-shadow: 0px 1px 2px rgba(60, 64, 67, 0.3), 0px 1px 3px 1px rgba(60, 64, 67, 0.15);\n",
              "      fill: #174EA6;\n",
              "    }\n",
              "\n",
              "    [theme=dark] .colab-df-convert {\n",
              "      background-color: #3B4455;\n",
              "      fill: #D2E3FC;\n",
              "    }\n",
              "\n",
              "    [theme=dark] .colab-df-convert:hover {\n",
              "      background-color: #434B5C;\n",
              "      box-shadow: 0px 1px 3px 1px rgba(0, 0, 0, 0.15);\n",
              "      filter: drop-shadow(0px 1px 2px rgba(0, 0, 0, 0.3));\n",
              "      fill: #FFFFFF;\n",
              "    }\n",
              "  </style>\n",
              "\n",
              "      <script>\n",
              "        const buttonEl =\n",
              "          document.querySelector('#df-a1e85b37-6cbb-4e88-b65d-bda0e0482f4f button.colab-df-convert');\n",
              "        buttonEl.style.display =\n",
              "          google.colab.kernel.accessAllowed ? 'block' : 'none';\n",
              "\n",
              "        async function convertToInteractive(key) {\n",
              "          const element = document.querySelector('#df-a1e85b37-6cbb-4e88-b65d-bda0e0482f4f');\n",
              "          const dataTable =\n",
              "            await google.colab.kernel.invokeFunction('convertToInteractive',\n",
              "                                                     [key], {});\n",
              "          if (!dataTable) return;\n",
              "\n",
              "          const docLinkHtml = 'Like what you see? Visit the ' +\n",
              "            '<a target=\"_blank\" href=https://colab.research.google.com/notebooks/data_table.ipynb>data table notebook</a>'\n",
              "            + ' to learn more about interactive tables.';\n",
              "          element.innerHTML = '';\n",
              "          dataTable['output_type'] = 'display_data';\n",
              "          await google.colab.output.renderOutput(dataTable, element);\n",
              "          const docLink = document.createElement('div');\n",
              "          docLink.innerHTML = docLinkHtml;\n",
              "          element.appendChild(docLink);\n",
              "        }\n",
              "      </script>\n",
              "    </div>\n",
              "  </div>\n",
              "  "
            ]
          },
          "metadata": {},
          "execution_count": 5
        }
      ]
    },
    {
      "cell_type": "code",
      "source": [
        "# Визуальный анализ корреляции по гистограмме(наиболее интересный раздел - fAlpha)\n",
        "\n",
        "for label in cols[:-1]:\n",
        "  plt.hist(df[df[\"class\"] == 1][label], color=\"blue\", label=\"gamma\", alpha=0.7, density=True)\n",
        "  plt.hist(df[df[\"class\"] == 0][label], color=\"red\", label=\"hadron\", alpha=0.7, density=True)\n",
        "  plt.title('<'+label+'>')\n",
        "  plt.ylabel(\"Probability\")\n",
        "  plt.xlabel(label)\n",
        "  plt.legend()\n",
        "  plt.show()"
      ],
      "metadata": {
        "colab": {
          "base_uri": "https://localhost:8080/",
          "height": 1000
        },
        "id": "-U0jfVtTTDc8",
        "outputId": "4aeed453-53af-4a3f-9a15-17fbee45260b"
      },
      "execution_count": 6,
      "outputs": [
        {
          "output_type": "display_data",
          "data": {
            "text/plain": [
              "<Figure size 640x480 with 1 Axes>"
            ],
            "image/png": "[encoded data removed]"
          },
          "metadata": {}
        },
        {
          "output_type": "display_data",
          "data": {
            "text/plain": [
              "<Figure size 640x480 with 1 Axes>"
            ],
            "image/png": "[encoded data removed]"
          },
          "metadata": {}
        },
        {
          "output_type": "display_data",
          "data": {
            "text/plain": [
              "<Figure size 640x480 with 1 Axes>"
            ],
            "image/png": "[encoded data removed]"
          },
          "metadata": {}
        },
        {
          "output_type": "display_data",
          "data": {
            "text/plain": [
              "<Figure size 640x480 with 1 Axes>"
            ],
            "image/png": "[encoded data removed]"
          },
          "metadata": {}
        },
        {
          "output_type": "display_data",
          "data": {
            "text/plain": [
              "<Figure size 640x480 with 1 Axes>"
            ],
            "image/png": "[encoded data removed]"
          },
          "metadata": {}
        },
        {
          "output_type": "display_data",
          "data": {
            "text/plain": [
              "<Figure size 640x480 with 1 Axes>"
            ],
            "image/png": "[encoded data removed]"
          },
          "metadata": {}
        },
        {
          "output_type": "display_data",
          "data": {
            "text/plain": [
              "<Figure size 640x480 with 1 Axes>"
            ],
            "image/png": "[encoded data removed]"
          },
          "metadata": {}
        },
        {
          "output_type": "display_data",
          "data": {
            "text/plain": [
              "<Figure size 640x480 with 1 Axes>"
            ],
            "image/png": "[encoded data removed]"
          },
          "metadata": {}
        },
        {
          "output_type": "display_data",
          "data": {
            "text/plain": [
              "<Figure size 640x480 with 1 Axes>"
            ],
            "image/png": "[encoded data removed]"
          },
          "metadata": {}
        },
        {
          "output_type": "display_data",
          "data": {
            "text/plain": [
              "<Figure size 640x480 with 1 Axes>"
            ],
            "image/png": "[encoded data removed]"
          },
          "metadata": {}
        }
      ]
    },
    {
      "cell_type": "code",
      "source": [
        "# Подготовка данных (Preparing Data)\n",
        "# разделяем на случаные подвыборки, где train - 60% датасета, а valid & test - по 20%\n",
        "\n",
        "train, valid, test = np.split(df.sample(frac=1), [int(0.6*len(df)), int(0.8*len(df))])"
      ],
      "metadata": {
        "id": "seZV9B8jTGrQ"
      },
      "execution_count": 7,
      "outputs": []
    },
    {
      "cell_type": "code",
      "source": [
        "train"
      ],
      "metadata": {
        "colab": {
          "base_uri": "https://localhost:8080/",
          "height": 424
        },
        "id": "kA2DltQoEg2U",
        "outputId": "9e24ce67-8a02-4cf6-958a-655c4e1540d5"
      },
      "execution_count": 8,
      "outputs": [
        {
          "output_type": "execute_result",
          "data": {
            "text/plain": [
              "        fLength   fWidth   fSize   fConc  fConc1     fAsym  fM3Long  fM3Trans  \\\n",
              "3701    38.5309  21.3117  2.7980  0.2580  0.1377    7.3695  24.4292  -12.4856   \n",
              "1917    36.0591  20.1264  2.9941  0.2889  0.1556   44.6572  24.9777   11.2823   \n",
              "5196    21.0228  16.2076  2.5670  0.4282  0.2236  -20.5324 -13.6002   -4.7962   \n",
              "13035  112.4290  51.2607  3.7315  0.0926  0.0496  -80.9799  82.8492   41.6052   \n",
              "14956   51.2755  26.1717  2.9442  0.1675  0.0643  -37.5337 -26.8600   17.3136   \n",
              "...         ...      ...     ...     ...     ...       ...      ...       ...   \n",
              "13727   14.0343   8.5698  2.4040  0.8757  0.4477   14.7287   4.5391  -11.2749   \n",
              "16988   36.3872  10.4131  2.8169  0.5015  0.2645   13.9003  25.0252   11.1582   \n",
              "7820    76.7605  21.3045  2.9854  0.2203  0.1143 -105.9950  48.8670   12.6649   \n",
              "2408    12.3331  12.1588  2.1414  0.6715  0.3430  -17.0704  10.7468    1.0079   \n",
              "14296   65.1269  15.2743  2.7992  0.3013  0.1779   31.3815  46.7013   14.2458   \n",
              "\n",
              "        fAlpha     fDist  class  \n",
              "3701   23.4357  151.1810      1  \n",
              "1917   17.9680   62.9514      1  \n",
              "5196   22.6203  113.8630      1  \n",
              "13035  12.0370  253.9980      0  \n",
              "14956   4.1303  120.6350      0  \n",
              "...        ...       ...    ...  \n",
              "13727  13.2698  123.2160      0  \n",
              "16988  54.7560  210.1880      0  \n",
              "7820    4.1410  279.8310      1  \n",
              "2408   17.4440  199.9890      1  \n",
              "14296  72.0462  129.1727      0  \n",
              "\n",
              "[11412 rows x 11 columns]"
            ],
            "text/html": [
              "\n",
              "  <div id=\"df-f649a55d-e810-4e67-a46b-c80bc80046aa\">\n",
              "    <div class=\"colab-df-container\">\n",
              "      <div>\n",
              "<style scoped>\n",
              "    .dataframe tbody tr th:only-of-type {\n",
              "        vertical-align: middle;\n",
              "    }\n",
              "\n",
              "    .dataframe tbody tr th {\n",
              "        vertical-align: top;\n",
              "    }\n",
              "\n",
              "    .dataframe thead th {\n",
              "        text-align: right;\n",
              "    }\n",
              "</style>\n",
              "<table border=\"1\" class=\"dataframe\">\n",
              "  <thead>\n",
              "    <tr style=\"text-align: right;\">\n",
              "      <th></th>\n",
              "      <th>fLength</th>\n",
              "      <th>fWidth</th>\n",
              "      <th>fSize</th>\n",
              "      <th>fConc</th>\n",
              "      <th>fConc1</th>\n",
              "      <th>fAsym</th>\n",
              "      <th>fM3Long</th>\n",
              "      <th>fM3Trans</th>\n",
              "      <th>fAlpha</th>\n",
              "      <th>fDist</th>\n",
              "      <th>class</th>\n",
              "    </tr>\n",
              "  </thead>\n",
              "  <tbody>\n",
              "    <tr>\n",
              "      <th>3701</th>\n",
              "      <td>38.5309</td>\n",
              "      <td>21.3117</td>\n",
              "      <td>2.7980</td>\n",
              "      <td>0.2580</td>\n",
              "      <td>0.1377</td>\n",
              "      <td>7.3695</td>\n",
              "      <td>24.4292</td>\n",
              "      <td>-12.4856</td>\n",
              "      <td>23.4357</td>\n",
              "      <td>151.1810</td>\n",
              "      <td>1</td>\n",
              "    </tr>\n",
              "    <tr>\n",
              "      <th>1917</th>\n",
              "      <td>36.0591</td>\n",
              "      <td>20.1264</td>\n",
              "      <td>2.9941</td>\n",
              "      <td>0.2889</td>\n",
              "      <td>0.1556</td>\n",
              "      <td>44.6572</td>\n",
              "      <td>24.9777</td>\n",
              "      <td>11.2823</td>\n",
              "      <td>17.9680</td>\n",
              "      <td>62.9514</td>\n",
              "      <td>1</td>\n",
              "    </tr>\n",
              "    <tr>\n",
              "      <th>5196</th>\n",
              "      <td>21.0228</td>\n",
              "      <td>16.2076</td>\n",
              "      <td>2.5670</td>\n",
              "      <td>0.4282</td>\n",
              "      <td>0.2236</td>\n",
              "      <td>-20.5324</td>\n",
              "      <td>-13.6002</td>\n",
              "      <td>-4.7962</td>\n",
              "      <td>22.6203</td>\n",
              "      <td>113.8630</td>\n",
              "      <td>1</td>\n",
              "    </tr>\n",
              "    <tr>\n",
              "      <th>13035</th>\n",
              "      <td>112.4290</td>\n",
              "      <td>51.2607</td>\n",
              "      <td>3.7315</td>\n",
              "      <td>0.0926</td>\n",
              "      <td>0.0496</td>\n",
              "      <td>-80.9799</td>\n",
              "      <td>82.8492</td>\n",
              "      <td>41.6052</td>\n",
              "      <td>12.0370</td>\n",
              "      <td>253.9980</td>\n",
              "      <td>0</td>\n",
              "    </tr>\n",
              "    <tr>\n",
              "      <th>14956</th>\n",
              "      <td>51.2755</td>\n",
              "      <td>26.1717</td>\n",
              "      <td>2.9442</td>\n",
              "      <td>0.1675</td>\n",
              "      <td>0.0643</td>\n",
              "      <td>-37.5337</td>\n",
              "      <td>-26.8600</td>\n",
              "      <td>17.3136</td>\n",
              "      <td>4.1303</td>\n",
              "      <td>120.6350</td>\n",
              "      <td>0</td>\n",
              "    </tr>\n",
              "    <tr>\n",
              "      <th>...</th>\n",
              "      <td>...</td>\n",
              "      <td>...</td>\n",
              "      <td>...</td>\n",
              "      <td>...</td>\n",
              "      <td>...</td>\n",
              "      <td>...</td>\n",
              "      <td>...</td>\n",
              "      <td>...</td>\n",
              "      <td>...</td>\n",
              "      <td>...</td>\n",
              "      <td>...</td>\n",
              "    </tr>\n",
              "    <tr>\n",
              "      <th>13727</th>\n",
              "      <td>14.0343</td>\n",
              "      <td>8.5698</td>\n",
              "      <td>2.4040</td>\n",
              "      <td>0.8757</td>\n",
              "      <td>0.4477</td>\n",
              "      <td>14.7287</td>\n",
              "      <td>4.5391</td>\n",
              "      <td>-11.2749</td>\n",
              "      <td>13.2698</td>\n",
              "      <td>123.2160</td>\n",
              "      <td>0</td>\n",
              "    </tr>\n",
              "    <tr>\n",
              "      <th>16988</th>\n",
              "      <td>36.3872</td>\n",
              "      <td>10.4131</td>\n",
              "      <td>2.8169</td>\n",
              "      <td>0.5015</td>\n",
              "      <td>0.2645</td>\n",
              "      <td>13.9003</td>\n",
              "      <td>25.0252</td>\n",
              "      <td>11.1582</td>\n",
              "      <td>54.7560</td>\n",
              "      <td>210.1880</td>\n",
              "      <td>0</td>\n",
              "    </tr>\n",
              "    <tr>\n",
              "      <th>7820</th>\n",
              "      <td>76.7605</td>\n",
              "      <td>21.3045</td>\n",
              "      <td>2.9854</td>\n",
              "      <td>0.2203</td>\n",
              "      <td>0.1143</td>\n",
              "      <td>-105.9950</td>\n",
              "      <td>48.8670</td>\n",
              "      <td>12.6649</td>\n",
              "      <td>4.1410</td>\n",
              "      <td>279.8310</td>\n",
              "      <td>1</td>\n",
              "    </tr>\n",
              "    <tr>\n",
              "      <th>2408</th>\n",
              "      <td>12.3331</td>\n",
              "      <td>12.1588</td>\n",
              "      <td>2.1414</td>\n",
              "      <td>0.6715</td>\n",
              "      <td>0.3430</td>\n",
              "      <td>-17.0704</td>\n",
              "      <td>10.7468</td>\n",
              "      <td>1.0079</td>\n",
              "      <td>17.4440</td>\n",
              "      <td>199.9890</td>\n",
              "      <td>1</td>\n",
              "    </tr>\n",
              "    <tr>\n",
              "      <th>14296</th>\n",
              "      <td>65.1269</td>\n",
              "      <td>15.2743</td>\n",
              "      <td>2.7992</td>\n",
              "      <td>0.3013</td>\n",
              "      <td>0.1779</td>\n",
              "      <td>31.3815</td>\n",
              "      <td>46.7013</td>\n",
              "      <td>14.2458</td>\n",
              "      <td>72.0462</td>\n",
              "      <td>129.1727</td>\n",
              "      <td>0</td>\n",
              "    </tr>\n",
              "  </tbody>\n",
              "</table>\n",
              "<p>11412 rows × 11 columns</p>\n",
              "</div>\n",
              "      <button class=\"colab-df-convert\" onclick=\"convertToInteractive('df-f649a55d-e810-4e67-a46b-c80bc80046aa')\"\n",
              "              title=\"Convert this dataframe to an interactive table.\"\n",
              "              style=\"display:none;\">\n",
              "        \n",
              "  <svg xmlns=\"http://www.w3.org/2000/svg\" height=\"24px\"viewBox=\"0 0 24 24\"\n",
              "       width=\"24px\">\n",
              "    <path d=\"M0 0h24v24H0V0z\" fill=\"none\"/>\n",
              "    <path d=\"M18.56 5.44l.94 2.06.94-2.06 2.06-.94-2.06-.94-.94-2.06-.94 2.06-2.06.94zm-11 1L8.5 8.5l.94-2.06 2.06-.94-2.06-.94L8.5 2.5l-.94 2.06-2.06.94zm10 10l.94 2.06.94-2.06 2.06-.94-2.06-.94-.94-2.06-.94 2.06-2.06.94z\"/><path d=\"M17.41 7.96l-1.37-1.37c-.4-.4-.92-.59-1.43-.59-.52 0-1.04.2-1.43.59L10.3 9.45l-7.72 7.72c-.78.78-.78 2.05 0 2.83L4 21.41c.39.39.9.59 1.41.59.51 0 1.02-.2 1.41-.59l7.78-7.78 2.81-2.81c.8-.78.8-2.07 0-2.86zM5.41 20L4 18.59l7.72-7.72 1.47 1.35L5.41 20z\"/>\n",
              "  </svg>\n",
              "      </button>\n",
              "      \n",
              "  <style>\n",
              "    .colab-df-container {\n",
              "      display:flex;\n",
              "      flex-wrap:wrap;\n",
              "      gap: 12px;\n",
              "    }\n",
              "\n",
              "    .colab-df-convert {\n",
              "      background-color: #E8F0FE;\n",
              "      border: none;\n",
              "      border-radius: 50%;\n",
              "      cursor: pointer;\n",
              "      display: none;\n",
              "      fill: #1967D2;\n",
              "      height: 32px;\n",
              "      padding: 0 0 0 0;\n",
              "      width: 32px;\n",
              "    }\n",
              "\n",
              "    .colab-df-convert:hover {\n",
              "      background-color: #E2EBFA;\n",
              "      box-shadow: 0px 1px 2px rgba(60, 64, 67, 0.3), 0px 1px 3px 1px rgba(60, 64, 67, 0.15);\n",
              "      fill: #174EA6;\n",
              "    }\n",
              "\n",
              "    [theme=dark] .colab-df-convert {\n",
              "      background-color: #3B4455;\n",
              "      fill: #D2E3FC;\n",
              "    }\n",
              "\n",
              "    [theme=dark] .colab-df-convert:hover {\n",
              "      background-color: #434B5C;\n",
              "      box-shadow: 0px 1px 3px 1px rgba(0, 0, 0, 0.15);\n",
              "      filter: drop-shadow(0px 1px 2px rgba(0, 0, 0, 0.3));\n",
              "      fill: #FFFFFF;\n",
              "    }\n",
              "  </style>\n",
              "\n",
              "      <script>\n",
              "        const buttonEl =\n",
              "          document.querySelector('#df-f649a55d-e810-4e67-a46b-c80bc80046aa button.colab-df-convert');\n",
              "        buttonEl.style.display =\n",
              "          google.colab.kernel.accessAllowed ? 'block' : 'none';\n",
              "\n",
              "        async function convertToInteractive(key) {\n",
              "          const element = document.querySelector('#df-f649a55d-e810-4e67-a46b-c80bc80046aa');\n",
              "          const dataTable =\n",
              "            await google.colab.kernel.invokeFunction('convertToInteractive',\n",
              "                                                     [key], {});\n",
              "          if (!dataTable) return;\n",
              "\n",
              "          const docLinkHtml = 'Like what you see? Visit the ' +\n",
              "            '<a target=\"_blank\" href=https://colab.research.google.com/notebooks/data_table.ipynb>data table notebook</a>'\n",
              "            + ' to learn more about interactive tables.';\n",
              "          element.innerHTML = '';\n",
              "          dataTable['output_type'] = 'display_data';\n",
              "          await google.colab.output.renderOutput(dataTable, element);\n",
              "          const docLink = document.createElement('div');\n",
              "          docLink.innerHTML = docLinkHtml;\n",
              "          element.appendChild(docLink);\n",
              "        }\n",
              "      </script>\n",
              "    </div>\n",
              "  </div>\n",
              "  "
            ]
          },
          "metadata": {},
          "execution_count": 8
        }
      ]
    },
    {
      "cell_type": "code",
      "source": [
        "valid"
      ],
      "metadata": {
        "colab": {
          "base_uri": "https://localhost:8080/",
          "height": 424
        },
        "id": "kh4we4u7Eh7c",
        "outputId": "9e2e99cf-1add-4a2d-97d6-456f1bcb281f"
      },
      "execution_count": 9,
      "outputs": [
        {
          "output_type": "execute_result",
          "data": {
            "text/plain": [
              "        fLength   fWidth   fSize   fConc  fConc1    fAsym   fM3Long  fM3Trans  \\\n",
              "7419    23.0564  15.9993  2.4955  0.4760  0.3115  -9.0445  -22.4763  -11.0232   \n",
              "12015   85.8538  16.1019  2.6117  0.4866  0.2971  41.2975   98.9232  -14.1160   \n",
              "15311  145.6048  81.2550  3.6376  0.1232  0.0694  66.2417 -103.8861  -47.3822   \n",
              "6396    27.6730  12.2087  2.3493  0.4251  0.2170  21.6289  -14.5838   -9.3565   \n",
              "2728    64.0183  26.8934  3.2139  0.1900  0.1072   4.0659   47.5424   16.6488   \n",
              "...         ...      ...     ...     ...     ...      ...       ...       ...   \n",
              "5068    24.3893  13.9437  2.5092  0.4830  0.2709   5.2824   20.1263    7.0536   \n",
              "12833  133.9489  38.3972  3.0833  0.2517  0.1421  89.9043  128.2511   26.3516   \n",
              "17504   14.5342  14.2628  2.4436  0.6164  0.3491  -2.6279    6.6097   14.1405   \n",
              "933     61.9494  31.0583  3.2648  0.1516  0.0834   7.1659   47.9741   10.9651   \n",
              "17456   80.5865  17.6853  2.7288  0.3735  0.1895 -72.7811  -48.0780   13.0506   \n",
              "\n",
              "        fAlpha     fDist  class  \n",
              "7419   15.2770  100.7640      1  \n",
              "12015  15.7700  205.1240      1  \n",
              "15311  54.4519  326.1046      0  \n",
              "6396   10.6699  203.4730      1  \n",
              "2728    2.9665  171.3190      1  \n",
              "...        ...       ...    ...  \n",
              "5068   35.9740  165.6830      1  \n",
              "12833  43.5612   32.7130      0  \n",
              "17504  18.9516  201.3046      0  \n",
              "933     0.8530  241.3740      1  \n",
              "17456  55.5230   84.8962      0  \n",
              "\n",
              "[3804 rows x 11 columns]"
            ],
            "text/html": [
              "\n",
              "  <div id=\"df-cc80c50d-6bee-44d1-a5f5-c82f900d1ae2\">\n",
              "    <div class=\"colab-df-container\">\n",
              "      <div>\n",
              "<style scoped>\n",
              "    .dataframe tbody tr th:only-of-type {\n",
              "        vertical-align: middle;\n",
              "    }\n",
              "\n",
              "    .dataframe tbody tr th {\n",
              "        vertical-align: top;\n",
              "    }\n",
              "\n",
              "    .dataframe thead th {\n",
              "        text-align: right;\n",
              "    }\n",
              "</style>\n",
              "<table border=\"1\" class=\"dataframe\">\n",
              "  <thead>\n",
              "    <tr style=\"text-align: right;\">\n",
              "      <th></th>\n",
              "      <th>fLength</th>\n",
              "      <th>fWidth</th>\n",
              "      <th>fSize</th>\n",
              "      <th>fConc</th>\n",
              "      <th>fConc1</th>\n",
              "      <th>fAsym</th>\n",
              "      <th>fM3Long</th>\n",
              "      <th>fM3Trans</th>\n",
              "      <th>fAlpha</th>\n",
              "      <th>fDist</th>\n",
              "      <th>class</th>\n",
              "    </tr>\n",
              "  </thead>\n",
              "  <tbody>\n",
              "    <tr>\n",
              "      <th>7419</th>\n",
              "      <td>23.0564</td>\n",
              "      <td>15.9993</td>\n",
              "      <td>2.4955</td>\n",
              "      <td>0.4760</td>\n",
              "      <td>0.3115</td>\n",
              "      <td>-9.0445</td>\n",
              "      <td>-22.4763</td>\n",
              "      <td>-11.0232</td>\n",
              "      <td>15.2770</td>\n",
              "      <td>100.7640</td>\n",
              "      <td>1</td>\n",
              "    </tr>\n",
              "    <tr>\n",
              "      <th>12015</th>\n",
              "      <td>85.8538</td>\n",
              "      <td>16.1019</td>\n",
              "      <td>2.6117</td>\n",
              "      <td>0.4866</td>\n",
              "      <td>0.2971</td>\n",
              "      <td>41.2975</td>\n",
              "      <td>98.9232</td>\n",
              "      <td>-14.1160</td>\n",
              "      <td>15.7700</td>\n",
              "      <td>205.1240</td>\n",
              "      <td>1</td>\n",
              "    </tr>\n",
              "    <tr>\n",
              "      <th>15311</th>\n",
              "      <td>145.6048</td>\n",
              "      <td>81.2550</td>\n",
              "      <td>3.6376</td>\n",
              "      <td>0.1232</td>\n",
              "      <td>0.0694</td>\n",
              "      <td>66.2417</td>\n",
              "      <td>-103.8861</td>\n",
              "      <td>-47.3822</td>\n",
              "      <td>54.4519</td>\n",
              "      <td>326.1046</td>\n",
              "      <td>0</td>\n",
              "    </tr>\n",
              "    <tr>\n",
              "      <th>6396</th>\n",
              "      <td>27.6730</td>\n",
              "      <td>12.2087</td>\n",
              "      <td>2.3493</td>\n",
              "      <td>0.4251</td>\n",
              "      <td>0.2170</td>\n",
              "      <td>21.6289</td>\n",
              "      <td>-14.5838</td>\n",
              "      <td>-9.3565</td>\n",
              "      <td>10.6699</td>\n",
              "      <td>203.4730</td>\n",
              "      <td>1</td>\n",
              "    </tr>\n",
              "    <tr>\n",
              "      <th>2728</th>\n",
              "      <td>64.0183</td>\n",
              "      <td>26.8934</td>\n",
              "      <td>3.2139</td>\n",
              "      <td>0.1900</td>\n",
              "      <td>0.1072</td>\n",
              "      <td>4.0659</td>\n",
              "      <td>47.5424</td>\n",
              "      <td>16.6488</td>\n",
              "      <td>2.9665</td>\n",
              "      <td>171.3190</td>\n",
              "      <td>1</td>\n",
              "    </tr>\n",
              "    <tr>\n",
              "      <th>...</th>\n",
              "      <td>...</td>\n",
              "      <td>...</td>\n",
              "      <td>...</td>\n",
              "      <td>...</td>\n",
              "      <td>...</td>\n",
              "      <td>...</td>\n",
              "      <td>...</td>\n",
              "      <td>...</td>\n",
              "      <td>...</td>\n",
              "      <td>...</td>\n",
              "      <td>...</td>\n",
              "    </tr>\n",
              "    <tr>\n",
              "      <th>5068</th>\n",
              "      <td>24.3893</td>\n",
              "      <td>13.9437</td>\n",
              "      <td>2.5092</td>\n",
              "      <td>0.4830</td>\n",
              "      <td>0.2709</td>\n",
              "      <td>5.2824</td>\n",
              "      <td>20.1263</td>\n",
              "      <td>7.0536</td>\n",
              "      <td>35.9740</td>\n",
              "      <td>165.6830</td>\n",
              "      <td>1</td>\n",
              "    </tr>\n",
              "    <tr>\n",
              "      <th>12833</th>\n",
              "      <td>133.9489</td>\n",
              "      <td>38.3972</td>\n",
              "      <td>3.0833</td>\n",
              "      <td>0.2517</td>\n",
              "      <td>0.1421</td>\n",
              "      <td>89.9043</td>\n",
              "      <td>128.2511</td>\n",
              "      <td>26.3516</td>\n",
              "      <td>43.5612</td>\n",
              "      <td>32.7130</td>\n",
              "      <td>0</td>\n",
              "    </tr>\n",
              "    <tr>\n",
              "      <th>17504</th>\n",
              "      <td>14.5342</td>\n",
              "      <td>14.2628</td>\n",
              "      <td>2.4436</td>\n",
              "      <td>0.6164</td>\n",
              "      <td>0.3491</td>\n",
              "      <td>-2.6279</td>\n",
              "      <td>6.6097</td>\n",
              "      <td>14.1405</td>\n",
              "      <td>18.9516</td>\n",
              "      <td>201.3046</td>\n",
              "      <td>0</td>\n",
              "    </tr>\n",
              "    <tr>\n",
              "      <th>933</th>\n",
              "      <td>61.9494</td>\n",
              "      <td>31.0583</td>\n",
              "      <td>3.2648</td>\n",
              "      <td>0.1516</td>\n",
              "      <td>0.0834</td>\n",
              "      <td>7.1659</td>\n",
              "      <td>47.9741</td>\n",
              "      <td>10.9651</td>\n",
              "      <td>0.8530</td>\n",
              "      <td>241.3740</td>\n",
              "      <td>1</td>\n",
              "    </tr>\n",
              "    <tr>\n",
              "      <th>17456</th>\n",
              "      <td>80.5865</td>\n",
              "      <td>17.6853</td>\n",
              "      <td>2.7288</td>\n",
              "      <td>0.3735</td>\n",
              "      <td>0.1895</td>\n",
              "      <td>-72.7811</td>\n",
              "      <td>-48.0780</td>\n",
              "      <td>13.0506</td>\n",
              "      <td>55.5230</td>\n",
              "      <td>84.8962</td>\n",
              "      <td>0</td>\n",
              "    </tr>\n",
              "  </tbody>\n",
              "</table>\n",
              "<p>3804 rows × 11 columns</p>\n",
              "</div>\n",
              "      <button class=\"colab-df-convert\" onclick=\"convertToInteractive('df-cc80c50d-6bee-44d1-a5f5-c82f900d1ae2')\"\n",
              "              title=\"Convert this dataframe to an interactive table.\"\n",
              "              style=\"display:none;\">\n",
              "        \n",
              "  <svg xmlns=\"http://www.w3.org/2000/svg\" height=\"24px\"viewBox=\"0 0 24 24\"\n",
              "       width=\"24px\">\n",
              "    <path d=\"M0 0h24v24H0V0z\" fill=\"none\"/>\n",
              "    <path d=\"M18.56 5.44l.94 2.06.94-2.06 2.06-.94-2.06-.94-.94-2.06-.94 2.06-2.06.94zm-11 1L8.5 8.5l.94-2.06 2.06-.94-2.06-.94L8.5 2.5l-.94 2.06-2.06.94zm10 10l.94 2.06.94-2.06 2.06-.94-2.06-.94-.94-2.06-.94 2.06-2.06.94z\"/><path d=\"M17.41 7.96l-1.37-1.37c-.4-.4-.92-.59-1.43-.59-.52 0-1.04.2-1.43.59L10.3 9.45l-7.72 7.72c-.78.78-.78 2.05 0 2.83L4 21.41c.39.39.9.59 1.41.59.51 0 1.02-.2 1.41-.59l7.78-7.78 2.81-2.81c.8-.78.8-2.07 0-2.86zM5.41 20L4 18.59l7.72-7.72 1.47 1.35L5.41 20z\"/>\n",
              "  </svg>\n",
              "      </button>\n",
              "      \n",
              "  <style>\n",
              "    .colab-df-container {\n",
              "      display:flex;\n",
              "      flex-wrap:wrap;\n",
              "      gap: 12px;\n",
              "    }\n",
              "\n",
              "    .colab-df-convert {\n",
              "      background-color: #E8F0FE;\n",
              "      border: none;\n",
              "      border-radius: 50%;\n",
              "      cursor: pointer;\n",
              "      display: none;\n",
              "      fill: #1967D2;\n",
              "      height: 32px;\n",
              "      padding: 0 0 0 0;\n",
              "      width: 32px;\n",
              "    }\n",
              "\n",
              "    .colab-df-convert:hover {\n",
              "      background-color: #E2EBFA;\n",
              "      box-shadow: 0px 1px 2px rgba(60, 64, 67, 0.3), 0px 1px 3px 1px rgba(60, 64, 67, 0.15);\n",
              "      fill: #174EA6;\n",
              "    }\n",
              "\n",
              "    [theme=dark] .colab-df-convert {\n",
              "      background-color: #3B4455;\n",
              "      fill: #D2E3FC;\n",
              "    }\n",
              "\n",
              "    [theme=dark] .colab-df-convert:hover {\n",
              "      background-color: #434B5C;\n",
              "      box-shadow: 0px 1px 3px 1px rgba(0, 0, 0, 0.15);\n",
              "      filter: drop-shadow(0px 1px 2px rgba(0, 0, 0, 0.3));\n",
              "      fill: #FFFFFF;\n",
              "    }\n",
              "  </style>\n",
              "\n",
              "      <script>\n",
              "        const buttonEl =\n",
              "          document.querySelector('#df-cc80c50d-6bee-44d1-a5f5-c82f900d1ae2 button.colab-df-convert');\n",
              "        buttonEl.style.display =\n",
              "          google.colab.kernel.accessAllowed ? 'block' : 'none';\n",
              "\n",
              "        async function convertToInteractive(key) {\n",
              "          const element = document.querySelector('#df-cc80c50d-6bee-44d1-a5f5-c82f900d1ae2');\n",
              "          const dataTable =\n",
              "            await google.colab.kernel.invokeFunction('convertToInteractive',\n",
              "                                                     [key], {});\n",
              "          if (!dataTable) return;\n",
              "\n",
              "          const docLinkHtml = 'Like what you see? Visit the ' +\n",
              "            '<a target=\"_blank\" href=https://colab.research.google.com/notebooks/data_table.ipynb>data table notebook</a>'\n",
              "            + ' to learn more about interactive tables.';\n",
              "          element.innerHTML = '';\n",
              "          dataTable['output_type'] = 'display_data';\n",
              "          await google.colab.output.renderOutput(dataTable, element);\n",
              "          const docLink = document.createElement('div');\n",
              "          docLink.innerHTML = docLinkHtml;\n",
              "          element.appendChild(docLink);\n",
              "        }\n",
              "      </script>\n",
              "    </div>\n",
              "  </div>\n",
              "  "
            ]
          },
          "metadata": {},
          "execution_count": 9
        }
      ]
    },
    {
      "cell_type": "code",
      "source": [
        "test"
      ],
      "metadata": {
        "colab": {
          "base_uri": "https://localhost:8080/",
          "height": 424
        },
        "id": "wYn03a3fEmFR",
        "outputId": "105fa897-21db-4b20-d81d-1547dc09fba5"
      },
      "execution_count": 10,
      "outputs": [
        {
          "output_type": "execute_result",
          "data": {
            "text/plain": [
              "        fLength   fWidth   fSize   fConc  fConc1    fAsym  fM3Long  fM3Trans  \\\n",
              "7373    29.2277  22.3943  2.8503  0.3035  0.1546  11.9367  21.8996  -19.2040   \n",
              "9193    46.2564  19.1547  2.9609  0.2276  0.1220  52.6054  21.5971  -10.3703   \n",
              "968     20.6484   6.9116  2.1319  0.7675  0.4391  20.9065  14.3220    5.8024   \n",
              "18408  102.4160  35.3969  3.2633  0.2236  0.1257 -55.9134 -44.7467  -21.6428   \n",
              "12996   31.6082  10.4765  2.6699  0.4564  0.2321 -13.0004  14.2189    4.7111   \n",
              "...         ...      ...     ...     ...     ...      ...      ...       ...   \n",
              "1612    50.7517  25.7097  3.3698  0.1579  0.0792  29.4191 -13.9810   14.7461   \n",
              "12242   29.2617  12.7089  2.5422  0.3644  0.1994  15.8677  11.6095    9.1450   \n",
              "7800    43.2269  23.1740  2.9743  0.2164  0.1141  47.9553  35.3128   10.3147   \n",
              "7272    68.1693  29.6106  2.9605  0.2924  0.1824 -68.2229  38.9137   20.9574   \n",
              "15546   40.2632  14.5705  2.5061  0.4203  0.2618 -55.3723  23.4969   10.6279   \n",
              "\n",
              "        fAlpha     fDist  class  \n",
              "7373   17.3452  164.0890      1  \n",
              "9193    6.5852  161.6990      1  \n",
              "968     7.4140  100.5480      1  \n",
              "18408  23.1906  367.7340      0  \n",
              "12996  56.6679   39.2281      0  \n",
              "...        ...       ...    ...  \n",
              "1612    6.3920  211.2380      1  \n",
              "12242   6.8790  136.7420      1  \n",
              "7800   26.0548  282.8430      1  \n",
              "7272    3.5850  262.1120      1  \n",
              "15546  66.7119  238.4949      0  \n",
              "\n",
              "[3804 rows x 11 columns]"
            ],
            "text/html": [
              "\n",
              "  <div id=\"df-29701802-963f-4b84-901d-8c61f539a974\">\n",
              "    <div class=\"colab-df-container\">\n",
              "      <div>\n",
              "<style scoped>\n",
              "    .dataframe tbody tr th:only-of-type {\n",
              "        vertical-align: middle;\n",
              "    }\n",
              "\n",
              "    .dataframe tbody tr th {\n",
              "        vertical-align: top;\n",
              "    }\n",
              "\n",
              "    .dataframe thead th {\n",
              "        text-align: right;\n",
              "    }\n",
              "</style>\n",
              "<table border=\"1\" class=\"dataframe\">\n",
              "  <thead>\n",
              "    <tr style=\"text-align: right;\">\n",
              "      <th></th>\n",
              "      <th>fLength</th>\n",
              "      <th>fWidth</th>\n",
              "      <th>fSize</th>\n",
              "      <th>fConc</th>\n",
              "      <th>fConc1</th>\n",
              "      <th>fAsym</th>\n",
              "      <th>fM3Long</th>\n",
              "      <th>fM3Trans</th>\n",
              "      <th>fAlpha</th>\n",
              "      <th>fDist</th>\n",
              "      <th>class</th>\n",
              "    </tr>\n",
              "  </thead>\n",
              "  <tbody>\n",
              "    <tr>\n",
              "      <th>7373</th>\n",
              "      <td>29.2277</td>\n",
              "      <td>22.3943</td>\n",
              "      <td>2.8503</td>\n",
              "      <td>0.3035</td>\n",
              "      <td>0.1546</td>\n",
              "      <td>11.9367</td>\n",
              "      <td>21.8996</td>\n",
              "      <td>-19.2040</td>\n",
              "      <td>17.3452</td>\n",
              "      <td>164.0890</td>\n",
              "      <td>1</td>\n",
              "    </tr>\n",
              "    <tr>\n",
              "      <th>9193</th>\n",
              "      <td>46.2564</td>\n",
              "      <td>19.1547</td>\n",
              "      <td>2.9609</td>\n",
              "      <td>0.2276</td>\n",
              "      <td>0.1220</td>\n",
              "      <td>52.6054</td>\n",
              "      <td>21.5971</td>\n",
              "      <td>-10.3703</td>\n",
              "      <td>6.5852</td>\n",
              "      <td>161.6990</td>\n",
              "      <td>1</td>\n",
              "    </tr>\n",
              "    <tr>\n",
              "      <th>968</th>\n",
              "      <td>20.6484</td>\n",
              "      <td>6.9116</td>\n",
              "      <td>2.1319</td>\n",
              "      <td>0.7675</td>\n",
              "      <td>0.4391</td>\n",
              "      <td>20.9065</td>\n",
              "      <td>14.3220</td>\n",
              "      <td>5.8024</td>\n",
              "      <td>7.4140</td>\n",
              "      <td>100.5480</td>\n",
              "      <td>1</td>\n",
              "    </tr>\n",
              "    <tr>\n",
              "      <th>18408</th>\n",
              "      <td>102.4160</td>\n",
              "      <td>35.3969</td>\n",
              "      <td>3.2633</td>\n",
              "      <td>0.2236</td>\n",
              "      <td>0.1257</td>\n",
              "      <td>-55.9134</td>\n",
              "      <td>-44.7467</td>\n",
              "      <td>-21.6428</td>\n",
              "      <td>23.1906</td>\n",
              "      <td>367.7340</td>\n",
              "      <td>0</td>\n",
              "    </tr>\n",
              "    <tr>\n",
              "      <th>12996</th>\n",
              "      <td>31.6082</td>\n",
              "      <td>10.4765</td>\n",
              "      <td>2.6699</td>\n",
              "      <td>0.4564</td>\n",
              "      <td>0.2321</td>\n",
              "      <td>-13.0004</td>\n",
              "      <td>14.2189</td>\n",
              "      <td>4.7111</td>\n",
              "      <td>56.6679</td>\n",
              "      <td>39.2281</td>\n",
              "      <td>0</td>\n",
              "    </tr>\n",
              "    <tr>\n",
              "      <th>...</th>\n",
              "      <td>...</td>\n",
              "      <td>...</td>\n",
              "      <td>...</td>\n",
              "      <td>...</td>\n",
              "      <td>...</td>\n",
              "      <td>...</td>\n",
              "      <td>...</td>\n",
              "      <td>...</td>\n",
              "      <td>...</td>\n",
              "      <td>...</td>\n",
              "      <td>...</td>\n",
              "    </tr>\n",
              "    <tr>\n",
              "      <th>1612</th>\n",
              "      <td>50.7517</td>\n",
              "      <td>25.7097</td>\n",
              "      <td>3.3698</td>\n",
              "      <td>0.1579</td>\n",
              "      <td>0.0792</td>\n",
              "      <td>29.4191</td>\n",
              "      <td>-13.9810</td>\n",
              "      <td>14.7461</td>\n",
              "      <td>6.3920</td>\n",
              "      <td>211.2380</td>\n",
              "      <td>1</td>\n",
              "    </tr>\n",
              "    <tr>\n",
              "      <th>12242</th>\n",
              "      <td>29.2617</td>\n",
              "      <td>12.7089</td>\n",
              "      <td>2.5422</td>\n",
              "      <td>0.3644</td>\n",
              "      <td>0.1994</td>\n",
              "      <td>15.8677</td>\n",
              "      <td>11.6095</td>\n",
              "      <td>9.1450</td>\n",
              "      <td>6.8790</td>\n",
              "      <td>136.7420</td>\n",
              "      <td>1</td>\n",
              "    </tr>\n",
              "    <tr>\n",
              "      <th>7800</th>\n",
              "      <td>43.2269</td>\n",
              "      <td>23.1740</td>\n",
              "      <td>2.9743</td>\n",
              "      <td>0.2164</td>\n",
              "      <td>0.1141</td>\n",
              "      <td>47.9553</td>\n",
              "      <td>35.3128</td>\n",
              "      <td>10.3147</td>\n",
              "      <td>26.0548</td>\n",
              "      <td>282.8430</td>\n",
              "      <td>1</td>\n",
              "    </tr>\n",
              "    <tr>\n",
              "      <th>7272</th>\n",
              "      <td>68.1693</td>\n",
              "      <td>29.6106</td>\n",
              "      <td>2.9605</td>\n",
              "      <td>0.2924</td>\n",
              "      <td>0.1824</td>\n",
              "      <td>-68.2229</td>\n",
              "      <td>38.9137</td>\n",
              "      <td>20.9574</td>\n",
              "      <td>3.5850</td>\n",
              "      <td>262.1120</td>\n",
              "      <td>1</td>\n",
              "    </tr>\n",
              "    <tr>\n",
              "      <th>15546</th>\n",
              "      <td>40.2632</td>\n",
              "      <td>14.5705</td>\n",
              "      <td>2.5061</td>\n",
              "      <td>0.4203</td>\n",
              "      <td>0.2618</td>\n",
              "      <td>-55.3723</td>\n",
              "      <td>23.4969</td>\n",
              "      <td>10.6279</td>\n",
              "      <td>66.7119</td>\n",
              "      <td>238.4949</td>\n",
              "      <td>0</td>\n",
              "    </tr>\n",
              "  </tbody>\n",
              "</table>\n",
              "<p>3804 rows × 11 columns</p>\n",
              "</div>\n",
              "      <button class=\"colab-df-convert\" onclick=\"convertToInteractive('df-29701802-963f-4b84-901d-8c61f539a974')\"\n",
              "              title=\"Convert this dataframe to an interactive table.\"\n",
              "              style=\"display:none;\">\n",
              "        \n",
              "  <svg xmlns=\"http://www.w3.org/2000/svg\" height=\"24px\"viewBox=\"0 0 24 24\"\n",
              "       width=\"24px\">\n",
              "    <path d=\"M0 0h24v24H0V0z\" fill=\"none\"/>\n",
              "    <path d=\"M18.56 5.44l.94 2.06.94-2.06 2.06-.94-2.06-.94-.94-2.06-.94 2.06-2.06.94zm-11 1L8.5 8.5l.94-2.06 2.06-.94-2.06-.94L8.5 2.5l-.94 2.06-2.06.94zm10 10l.94 2.06.94-2.06 2.06-.94-2.06-.94-.94-2.06-.94 2.06-2.06.94z\"/><path d=\"M17.41 7.96l-1.37-1.37c-.4-.4-.92-.59-1.43-.59-.52 0-1.04.2-1.43.59L10.3 9.45l-7.72 7.72c-.78.78-.78 2.05 0 2.83L4 21.41c.39.39.9.59 1.41.59.51 0 1.02-.2 1.41-.59l7.78-7.78 2.81-2.81c.8-.78.8-2.07 0-2.86zM5.41 20L4 18.59l7.72-7.72 1.47 1.35L5.41 20z\"/>\n",
              "  </svg>\n",
              "      </button>\n",
              "      \n",
              "  <style>\n",
              "    .colab-df-container {\n",
              "      display:flex;\n",
              "      flex-wrap:wrap;\n",
              "      gap: 12px;\n",
              "    }\n",
              "\n",
              "    .colab-df-convert {\n",
              "      background-color: #E8F0FE;\n",
              "      border: none;\n",
              "      border-radius: 50%;\n",
              "      cursor: pointer;\n",
              "      display: none;\n",
              "      fill: #1967D2;\n",
              "      height: 32px;\n",
              "      padding: 0 0 0 0;\n",
              "      width: 32px;\n",
              "    }\n",
              "\n",
              "    .colab-df-convert:hover {\n",
              "      background-color: #E2EBFA;\n",
              "      box-shadow: 0px 1px 2px rgba(60, 64, 67, 0.3), 0px 1px 3px 1px rgba(60, 64, 67, 0.15);\n",
              "      fill: #174EA6;\n",
              "    }\n",
              "\n",
              "    [theme=dark] .colab-df-convert {\n",
              "      background-color: #3B4455;\n",
              "      fill: #D2E3FC;\n",
              "    }\n",
              "\n",
              "    [theme=dark] .colab-df-convert:hover {\n",
              "      background-color: #434B5C;\n",
              "      box-shadow: 0px 1px 3px 1px rgba(0, 0, 0, 0.15);\n",
              "      filter: drop-shadow(0px 1px 2px rgba(0, 0, 0, 0.3));\n",
              "      fill: #FFFFFF;\n",
              "    }\n",
              "  </style>\n",
              "\n",
              "      <script>\n",
              "        const buttonEl =\n",
              "          document.querySelector('#df-29701802-963f-4b84-901d-8c61f539a974 button.colab-df-convert');\n",
              "        buttonEl.style.display =\n",
              "          google.colab.kernel.accessAllowed ? 'block' : 'none';\n",
              "\n",
              "        async function convertToInteractive(key) {\n",
              "          const element = document.querySelector('#df-29701802-963f-4b84-901d-8c61f539a974');\n",
              "          const dataTable =\n",
              "            await google.colab.kernel.invokeFunction('convertToInteractive',\n",
              "                                                     [key], {});\n",
              "          if (!dataTable) return;\n",
              "\n",
              "          const docLinkHtml = 'Like what you see? Visit the ' +\n",
              "            '<a target=\"_blank\" href=https://colab.research.google.com/notebooks/data_table.ipynb>data table notebook</a>'\n",
              "            + ' to learn more about interactive tables.';\n",
              "          element.innerHTML = '';\n",
              "          dataTable['output_type'] = 'display_data';\n",
              "          await google.colab.output.renderOutput(dataTable, element);\n",
              "          const docLink = document.createElement('div');\n",
              "          docLink.innerHTML = docLinkHtml;\n",
              "          element.appendChild(docLink);\n",
              "        }\n",
              "      </script>\n",
              "    </div>\n",
              "  </div>\n",
              "  "
            ]
          },
          "metadata": {},
          "execution_count": 10
        }
      ]
    },
    {
      "cell_type": "code",
      "source": [
        "print(len(train[train[\"class\"] == 1])) # кол-во gamma \n",
        "print(len(train[train[\"class\"] == 0])) # кол-во hadron\n",
        "\n",
        "# ВЫВОД - количество сильно разнится, надо подравнять ;) "
      ],
      "metadata": {
        "colab": {
          "base_uri": "https://localhost:8080/"
        },
        "id": "0qoIrFnvGX9y",
        "outputId": "ee986045-0a2b-4866-c7fa-d7706c181ff5"
      },
      "execution_count": 11,
      "outputs": [
        {
          "output_type": "stream",
          "name": "stdout",
          "text": [
            "7371\n",
            "4041\n"
          ]
        }
      ]
    },
    {
      "cell_type": "code",
      "source": [
        "def scale_dataframe(dataframe, oversample=False):\n",
        "  X = dataframe[dataframe.columns[:-1]].values # столбцы для тренировки(все кроме последнего)\n",
        "  y = dataframe[dataframe.columns[-1]].values # столбцы для сравнения ответов(последний)\n",
        "\n",
        "  scaler = StandardScaler() # преобразование данных (стандартизировать объем входящих данных)\n",
        "  X = scaler.fit_transform(X) # то, на чем будем обучать\n",
        "\n",
        "  if oversample:                  # Если размеры не совпадают - подгоняем\n",
        "    ros = RandomOverSampler()\n",
        "    X, y = ros.fit_resample(X, y)\n",
        "\n",
        "  data = np.hstack((X, np.reshape(y, (-1, 1)))) # сложение 2-мерных массивов + подгонка массива \"y\" под двумерный размер\n",
        "\n",
        "  return data, X, y "
      ],
      "metadata": {
        "id": "Cb-KEMOBE9Fo"
      },
      "execution_count": 12,
      "outputs": []
    },
    {
      "cell_type": "code",
      "source": [
        "train, X_train, y_train = scale_dataframe(train, oversample=True) # формируем и балансируем тренировочные данные\n",
        "valid, X_valid, y_valid = scale_dataframe(valid, oversample=False) # формируем без баланса валидные данные\n",
        "test, X_test, y_test = scale_dataframe(test, oversample=False) # формируем без баланса тестовые данные"
      ],
      "metadata": {
        "id": "L0h65nkjK9P2"
      },
      "execution_count": 13,
      "outputs": []
    },
    {
      "cell_type": "code",
      "source": [
        "print(sum(y_train == 1)) # кол-во gamma \n",
        "print(sum(y_train == 0)) # кол-во hadron\n",
        "\n",
        "# ВЫВОД - теперь все ровненько и душевно\n",
        "# P.s. только тренировочные данные надо балансИровать, валидные и тестовые должны быть случайными"
      ],
      "metadata": {
        "colab": {
          "base_uri": "https://localhost:8080/"
        },
        "id": "DsyMTuBnNZSm",
        "outputId": "ec5960e3-4543-42a3-92cd-0a416ae60394"
      },
      "execution_count": 14,
      "outputs": [
        {
          "output_type": "stream",
          "name": "stdout",
          "text": [
            "7371\n",
            "7371\n"
          ]
        }
      ]
    },
    {
      "cell_type": "code",
      "source": [
        "#Сравнение размерностей валидных данных и тестовых(должны быть несбалансированными)\n",
        "print(sum(y_valid == 1)) # кол-во gamma у валида\n",
        "print(sum(y_valid == 0)) # кол-во hadron у теста\n",
        "print(\"----\")\n",
        "print(sum(y_test == 1)) # кол-во gamma у теста\n",
        "print(sum(y_test == 0)) # кол-во hadron у теста"
      ],
      "metadata": {
        "colab": {
          "base_uri": "https://localhost:8080/"
        },
        "id": "TrDQtgUsN6vo",
        "outputId": "605a6d22-dea6-4b76-83a0-4c293e3fc531"
      },
      "execution_count": 15,
      "outputs": [
        {
          "output_type": "stream",
          "name": "stdout",
          "text": [
            "2492\n",
            "1312\n",
            "----\n",
            "2469\n",
            "1335\n"
          ]
        }
      ]
    },
    {
      "cell_type": "markdown",
      "source": [
        "# Метод k-ближайших соседей(kNN).  Основной принцип на фото:\n"
      ],
      "metadata": {
        "id": "WM-fgoqv-Aar"
      }
    },
    {
      "cell_type": "markdown",
      "source": [
        "![kNN](https://i.imgur.com/w03l3aP.png)\n",
        "\n",
        "*Общий принцип - сравнение классов соседних и подходящих по параметрам строк. Если в диапазоне соседей больше всего встречается класс 1, то скорее всего и неизвестная ячейка равна 1, и наоборот с 2.*"
      ],
      "metadata": {
        "id": "OxzsPS8T-Agy"
      }
    },
    {
      "cell_type": "markdown",
      "source": [
        "**Работа с обучением kNN**"
      ],
      "metadata": {
        "id": "sIz2T_LnK3gC"
      }
    },
    {
      "cell_type": "code",
      "source": [
        "from sklearn.neighbors import KNeighborsClassifier\n",
        "from sklearn.metrics import classification_report"
      ],
      "metadata": {
        "id": "95BBlpBhQw6t"
      },
      "execution_count": 16,
      "outputs": []
    },
    {
      "cell_type": "code",
      "source": [
        "knn_model = KNeighborsClassifier(n_neighbors=10)\n",
        "\n",
        "knn_model.fit(X_train, y_train) # передаем тренировочные данные (обучаем алгоритм)\n",
        "\n",
        "y_pred = knn_model.predict(X_test) # предиктим модель на тестовых данных(предугадываем результаты)"
      ],
      "metadata": {
        "id": "Q5gjT-xJ_-A7"
      },
      "execution_count": 17,
      "outputs": []
    },
    {
      "cell_type": "code",
      "source": [
        "y_pred, y_test # визуально можем сравнить что совпало, а что нет"
      ],
      "metadata": {
        "colab": {
          "base_uri": "https://localhost:8080/"
        },
        "id": "MOCwwHBwApR4",
        "outputId": "bedb6b7d-e9e9-425a-e04f-a4ac9dcb233e"
      },
      "execution_count": 18,
      "outputs": [
        {
          "output_type": "execute_result",
          "data": {
            "text/plain": [
              "(array([1, 1, 1, ..., 1, 1, 0]), array([1, 1, 1, ..., 1, 1, 0]))"
            ]
          },
          "metadata": {},
          "execution_count": 18
        }
      ]
    },
    {
      "cell_type": "code",
      "source": [
        "print(classification_report(y_test, y_pred)) # смотрим полную статистику по сравнению и качество применения алгоритма"
      ],
      "metadata": {
        "colab": {
          "base_uri": "https://localhost:8080/"
        },
        "id": "WXVc3gMCAvlY",
        "outputId": "61b5412d-85da-44b6-d2d8-53da242143ad"
      },
      "execution_count": 19,
      "outputs": [
        {
          "output_type": "stream",
          "name": "stdout",
          "text": [
            "              precision    recall  f1-score   support\n",
            "\n",
            "           0       0.73      0.74      0.74      1335\n",
            "           1       0.86      0.85      0.86      2469\n",
            "\n",
            "    accuracy                           0.81      3804\n",
            "   macro avg       0.80      0.80      0.80      3804\n",
            "weighted avg       0.81      0.81      0.81      3804\n",
            "\n"
          ]
        }
      ]
    },
    {
      "cell_type": "markdown",
      "source": [
        "*На заметку: accuracy - точность*"
      ],
      "metadata": {
        "id": "lHFJnF-gL2wf"
      }
    },
    {
      "cell_type": "markdown",
      "source": [
        "# Что такое recall и precision\n",
        "\n",
        "<img src='https://upload.wikimedia.org/wikipedia/commons/thumb/2/26/Precisionrecall.svg/700px-Precisionrecall.svg.png' width=\"300\">\n"
      ],
      "metadata": {
        "id": "0D65DG_cCUQ2"
      }
    },
    {
      "cell_type": "markdown",
      "source": [
        "# Алгоритм Naive Bayes classifier(Наивный байесовский классификатор)"
      ],
      "metadata": {
        "id": "6BTuJcEJMD6_"
      }
    },
    {
      "cell_type": "markdown",
      "source": [
        "<img src='https://i.imgur.com/5YI93Az.png'>\n",
        "Принцип работы: Сравнение вероятностей общего класса, но разных исходов в нем"
      ],
      "metadata": {
        "id": "TyhJHJAeM_d2"
      }
    },
    {
      "cell_type": "code",
      "source": [
        "from sklearn.naive_bayes import GaussianNB"
      ],
      "metadata": {
        "id": "yrAm2_1hC3AU"
      },
      "execution_count": 20,
      "outputs": []
    },
    {
      "cell_type": "code",
      "source": [
        "nb_model = GaussianNB()\n",
        "nb_model = nb_model.fit(X_train, y_train) # передаем тренировочные данные (обучаем алгоритм)"
      ],
      "metadata": {
        "id": "eq31WMvKO7hq"
      },
      "execution_count": 29,
      "outputs": []
    },
    {
      "cell_type": "code",
      "source": [
        "y_pred_nb = nb_model.predict(X_test) # предиктим модель на тестовых данных(предугадываем результаты)"
      ],
      "metadata": {
        "id": "anqp8MCoPE35"
      },
      "execution_count": 34,
      "outputs": []
    },
    {
      "cell_type": "code",
      "source": [
        "y_pred_nb, y_test # визуально можем сравнить что совпало, а что нет"
      ],
      "metadata": {
        "colab": {
          "base_uri": "https://localhost:8080/"
        },
        "id": "ONnRAvTfPpg3",
        "outputId": "88045dc0-7f91-4554-ac0d-f36c9279ec86"
      },
      "execution_count": 31,
      "outputs": [
        {
          "output_type": "execute_result",
          "data": {
            "text/plain": [
              "(array([1, 1, 1, ..., 1, 1, 1]), array([1, 1, 1, ..., 1, 1, 0]))"
            ]
          },
          "metadata": {},
          "execution_count": 31
        }
      ]
    },
    {
      "cell_type": "code",
      "source": [
        "print(classification_report(y_pred_nb, y_test)) # смотрим полную статистику по сравнению и качество применения алгоритма"
      ],
      "metadata": {
        "colab": {
          "base_uri": "https://localhost:8080/"
        },
        "id": "B6j91HiKPu6V",
        "outputId": "ee4da2e1-2b4e-463c-ca3c-8b785cd304c8"
      },
      "execution_count": 32,
      "outputs": [
        {
          "output_type": "stream",
          "name": "stdout",
          "text": [
            "              precision    recall  f1-score   support\n",
            "\n",
            "           0       0.41      0.70      0.52       780\n",
            "           1       0.90      0.74      0.81      3024\n",
            "\n",
            "    accuracy                           0.73      3804\n",
            "   macro avg       0.66      0.72      0.66      3804\n",
            "weighted avg       0.80      0.73      0.75      3804\n",
            "\n"
          ]
        }
      ]
    },
    {
      "cell_type": "markdown",
      "source": [
        "*Болле низкая точность Наивного Бейсовского алгоритма в нашем случае связана с его принципом работы и со структурой нашего датасета*"
      ],
      "metadata": {
        "id": "AY5EumwRRAAM"
      }
    },
    {
      "cell_type": "markdown",
      "source": [
        "# Алгоритм Логистическая регрессия (Logistic regression)\n",
        "\n",
        "<img src=\"https://1394217531-files.gitbook.io/~/files/v0/b/gitbook-legacy-files/o/assets%2F-LvBP1svpACTB1R1x_U4%2F-Lw70vAIGPfRR1AjprLi%2F-LwAVc1EdfmPMge5dlYC%2Fimage.png?alt=media&token=d72e3231-0d64-4bb7-9e4c-20577940763d\">\n",
        "\n",
        "*Общий принцип работы - найти наиболее подходящие коэффиценты и параметры для задания функции так, чтобы лучше всего поделить данные на 2 класса*"
      ],
      "metadata": {
        "id": "D2ysGSC_RS-Z"
      }
    },
    {
      "cell_type": "code",
      "source": [
        "from sklearn.linear_model import LogisticRegression"
      ],
      "metadata": {
        "id": "S6D-VYLUP3uE"
      },
      "execution_count": 33,
      "outputs": []
    },
    {
      "cell_type": "code",
      "source": [
        "lg_model = LogisticRegression()\n",
        "lg_model = lg_model.fit(X_train, y_train) # передаем тренировочные данные (обучаем алгоритм)"
      ],
      "metadata": {
        "id": "dVe3F3dtTorX"
      },
      "execution_count": 35,
      "outputs": []
    },
    {
      "cell_type": "code",
      "source": [
        "y_pred_lg = lg_model.predict(X_test) # предиктим модель на тестовых данных(предугадываем результаты)"
      ],
      "metadata": {
        "id": "sAWQk1RgT1i6"
      },
      "execution_count": 36,
      "outputs": []
    },
    {
      "cell_type": "code",
      "source": [
        "y_pred_lg, y_test"
      ],
      "metadata": {
        "colab": {
          "base_uri": "https://localhost:8080/"
        },
        "id": "JfsKwr-ST5KM",
        "outputId": "77ddb772-83f2-4864-8127-2e1d2d2bbf60"
      },
      "execution_count": 37,
      "outputs": [
        {
          "output_type": "execute_result",
          "data": {
            "text/plain": [
              "(array([1, 1, 1, ..., 1, 1, 0]), array([1, 1, 1, ..., 1, 1, 0]))"
            ]
          },
          "metadata": {},
          "execution_count": 37
        }
      ]
    },
    {
      "cell_type": "code",
      "source": [
        "print(classification_report(y_pred_lg, y_test)) # смотрим полную статистику по сравнению и качество применения алгоритма"
      ],
      "metadata": {
        "colab": {
          "base_uri": "https://localhost:8080/"
        },
        "id": "uLa1kT0qT8Mv",
        "outputId": "020b4b0d-7147-44c8-8368-424b6dafb2d8"
      },
      "execution_count": 38,
      "outputs": [
        {
          "output_type": "stream",
          "name": "stdout",
          "text": [
            "              precision    recall  f1-score   support\n",
            "\n",
            "           0       0.71      0.68      0.70      1405\n",
            "           1       0.82      0.84      0.83      2399\n",
            "\n",
            "    accuracy                           0.78      3804\n",
            "   macro avg       0.77      0.76      0.76      3804\n",
            "weighted avg       0.78      0.78      0.78      3804\n",
            "\n"
          ]
        }
      ]
    },
    {
      "cell_type": "code",
      "source": [],
      "metadata": {
        "id": "JPlvbnGXUG9A"
      },
      "execution_count": null,
      "outputs": []
    }
  ]
}